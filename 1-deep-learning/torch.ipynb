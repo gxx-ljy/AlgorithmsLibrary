{
 "cells": [
  {
   "cell_type": "markdown",
   "id": "094dfa85-8b1e-48e8-9108-f68e57a6bc4a",
   "metadata": {},
   "source": [
    "# 官网\n",
    "\n",
    "https://pytorch.org/get-started/locally/\n",
    "\n",
    "```\n",
    "pip install torch==2.1.1 torchvision==0.16.1 torchaudio==2.1.1 --index-url https://download.pytorch.org/whl/cu121\n",
    "```\n",
    "```\n",
    "pip install torch==2.2.1 torchvision==0.17.1 torchaudio==2.2.1 --index-url https://download.pytorch.org/whl/cu121\n",
    "```\n",
    "```\n",
    "pip install torch==2.3.0 torchvision==0.18.1 torchaudio==2.3.0 --index-url https://download.pytorch.org/whl/cu121\n",
    "```\n",
    "\n",
    "# 本地安装\n",
    "\n",
    "https://download.pytorch.org/whl/torch_stable.html\n",
    "\n",
    "```\n",
    "pip install \"E:\\codes\\model\\py10\\torch-2.1.1+cu121-cp310-cp310-win_amd64.whl\"\n",
    "pip install \"E:\\codes\\model\\py10\\torchaudio-2.1.1+cu121-cp310-cp310-win_amd64.whl\"\n",
    "pip install \"E:\\codes\\model\\py10\\torchvision-0.16.1+cu121-cp310-cp310-win_amd64.whl\"\n",
    "```\n",
    "\n",
    "# 重装pytorch\n",
    "\n",
    "```\n",
    "pip install torchvision --force-reinstall --index-url https://download.pytorch.org/whl/cu121\n",
    "```"
   ]
  },
  {
   "cell_type": "code",
   "execution_count": null,
   "id": "a0628d9d-f409-4716-85d5-1e5625213433",
   "metadata": {},
   "outputs": [],
   "source": []
  }
 ],
 "metadata": {
  "kernelspec": {
   "display_name": "chat-env",
   "language": "python",
   "name": "chat-env"
  },
  "language_info": {
   "codemirror_mode": {
    "name": "ipython",
    "version": 3
   },
   "file_extension": ".py",
   "mimetype": "text/x-python",
   "name": "python",
   "nbconvert_exporter": "python",
   "pygments_lexer": "ipython3",
   "version": "3.10.13"
  }
 },
 "nbformat": 4,
 "nbformat_minor": 5
}
