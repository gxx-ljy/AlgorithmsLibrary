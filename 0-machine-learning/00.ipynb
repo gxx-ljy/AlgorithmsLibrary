{
 "cells": [
  {
   "cell_type": "markdown",
   "id": "596fe521-d1a9-4e3c-956b-2615e32e3d03",
   "metadata": {},
   "source": [
    "https://github.com/Microsoft/LightGBM\n",
    "\n",
    "https://lightgbm.readthedocs.io/en/latest/Python-API.html"
   ]
  },
  {
   "cell_type": "code",
   "execution_count": null,
   "id": "09de4998-2bdb-404f-9faa-07e774906d91",
   "metadata": {},
   "outputs": [],
   "source": []
  }
 ],
 "metadata": {
  "kernelspec": {
   "display_name": "data-env",
   "language": "python",
   "name": "data-env"
  },
  "language_info": {
   "codemirror_mode": {
    "name": "ipython",
    "version": 3
   },
   "file_extension": ".py",
   "mimetype": "text/x-python",
   "name": "python",
   "nbconvert_exporter": "python",
   "pygments_lexer": "ipython3",
   "version": "3.10.13"
  }
 },
 "nbformat": 4,
 "nbformat_minor": 5
}
